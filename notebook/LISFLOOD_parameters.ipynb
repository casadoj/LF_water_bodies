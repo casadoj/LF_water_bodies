{
 "cells": [
  {
   "cell_type": "code",
   "execution_count": 2,
   "id": "59d0e56f-45fc-4d98-a4dc-1de3e629981b",
   "metadata": {},
   "outputs": [],
   "source": [
    "import os\n",
    "import numpy as np\n",
    "import pandas as pd\n",
    "import xml.etree.ElementTree as ET\n",
    "from pathlib import Path"
   ]
  },
  {
   "cell_type": "code",
   "execution_count": 36,
   "id": "7cce8f23-f857-45f9-a8dd-108d40c58406",
   "metadata": {},
   "outputs": [],
   "source": [
    "import xarray as xr"
   ]
  },
  {
   "cell_type": "code",
   "execution_count": 27,
   "id": "c62c6bcf-138a-4fc0-aa78-bba08d71c5c7",
   "metadata": {},
   "outputs": [],
   "source": [
    "from typing import Union, Dict, Tuple, List\n",
    "\n",
    "\n",
    "def xml_parameters(xml: Union[str, Path], pars: Union[str, List[str]] = None) -> Dict:\n",
    "    \"\"\"It extracts the temporal information from the settings XML file.\n",
    "    \n",
    "    Input:\n",
    "    ------\n",
    "    xml:         Union[str, Path] \n",
    "        A XML settings file (path, filename and extension)\n",
    "    pars:        Union[str, List[str]]\n",
    "        Name(s) of the parameters to be extracted\n",
    "        \n",
    "    Output:\n",
    "    -------\n",
    "    parameters:  Dict\n",
    "        Keys are parameter names and values the calibrated parameter value\n",
    "    \"\"\"\n",
    "    \n",
    "    # extract temporal info from the XML\n",
    "    tree = ET.parse(xml)\n",
    "    root = tree.getroot()\n",
    "    \n",
    "    if pars is None:\n",
    "        pars = ['b_Xinanjiang', 'UpperZoneTimeConstant', 'LowerZoneTimeConstant', 'LZThreshold',\n",
    "                'GwPercValue', 'GwLoss', 'PowerPrefFlow', 'SnowMeltCoef',\n",
    "                'AvWaterRateThreshold' , 'LakeMultiplier', 'adjust_Normal_Flood', 'ReservoirRnormqMult', \n",
    "                'QSplitMult', 'CalChanMan', 'CalChanMan2', 'ChanBottomWMult', 'ChanDepthTMult', 'ChanSMult']\n",
    "    \n",
    "    parameters = {par: float(root.find(f'.//textvar[@name=\"{par}\"]').attrib['value']) for par in pars}\n",
    "        \n",
    "    return parameters"
   ]
  },
  {
   "cell_type": "markdown",
   "id": "85345d70-d707-4d7d-822b-cf8e7ccbaaf5",
   "metadata": {},
   "source": [
    "## Configuration"
   ]
  },
  {
   "cell_type": "code",
   "execution_count": 3,
   "id": "2590a5c1-48c7-4f9f-9c52-89fd5d8685b8",
   "metadata": {},
   "outputs": [],
   "source": [
    "path_glofas = Path('Z:/nahaUsers/casadje/GloFASv4/')\n",
    "settings_file = 'settings_lisflood_wusewregion_FULLinit_GloFASnext-PreRunX.xml'"
   ]
  },
  {
   "cell_type": "markdown",
   "id": "23f31853-dca6-4d89-abd9-9bc84f3715c9",
   "metadata": {},
   "source": [
    "## Data\n",
    "### Calibrated parameters"
   ]
  },
  {
   "cell_type": "code",
   "execution_count": 5,
   "id": "a0138045-0687-437d-ad86-14449874ae3a",
   "metadata": {},
   "outputs": [
    {
     "data": {
      "text/plain": [
       "33"
      ]
     },
     "execution_count": 5,
     "metadata": {},
     "output_type": "execute_result"
    }
   ],
   "source": [
    "catchments = [x for x in os.listdir(path_glofas / 'catchments') if os.path.isdir(os.path.join(path_glofas / f'catchments/{x}'))]\n",
    "\n",
    "len(catchments)"
   ]
  },
  {
   "cell_type": "code",
   "execution_count": 33,
   "id": "0f4ab200-97f4-4afd-be2c-0caa92043af8",
   "metadata": {},
   "outputs": [
    {
     "data": {
      "text/html": [
       "<div>\n",
       "<style scoped>\n",
       "    .dataframe tbody tr th:only-of-type {\n",
       "        vertical-align: middle;\n",
       "    }\n",
       "\n",
       "    .dataframe tbody tr th {\n",
       "        vertical-align: top;\n",
       "    }\n",
       "\n",
       "    .dataframe thead th {\n",
       "        text-align: right;\n",
       "    }\n",
       "</style>\n",
       "<table border=\"1\" class=\"dataframe\">\n",
       "  <thead>\n",
       "    <tr style=\"text-align: right;\">\n",
       "      <th></th>\n",
       "      <th>453</th>\n",
       "      <th>476</th>\n",
       "      <th>477</th>\n",
       "      <th>527</th>\n",
       "      <th>555</th>\n",
       "      <th>556</th>\n",
       "      <th>635</th>\n",
       "      <th>642</th>\n",
       "      <th>656</th>\n",
       "      <th>662</th>\n",
       "      <th>...</th>\n",
       "      <th>825</th>\n",
       "      <th>829</th>\n",
       "      <th>830</th>\n",
       "      <th>831</th>\n",
       "      <th>835</th>\n",
       "      <th>836</th>\n",
       "      <th>854</th>\n",
       "      <th>856</th>\n",
       "      <th>858</th>\n",
       "      <th>865</th>\n",
       "    </tr>\n",
       "  </thead>\n",
       "  <tbody>\n",
       "    <tr>\n",
       "      <th>adjust_Normal_Flood</th>\n",
       "      <td>0.139326</td>\n",
       "      <td>0.522563</td>\n",
       "      <td>0.638480</td>\n",
       "      <td>0.129179</td>\n",
       "      <td>0.501281</td>\n",
       "      <td>0.894556</td>\n",
       "      <td>0.146777</td>\n",
       "      <td>0.01000</td>\n",
       "      <td>0.026621</td>\n",
       "      <td>0.480791</td>\n",
       "      <td>...</td>\n",
       "      <td>0.325858</td>\n",
       "      <td>0.609061</td>\n",
       "      <td>0.958427</td>\n",
       "      <td>0.223297</td>\n",
       "      <td>0.544355</td>\n",
       "      <td>0.617579</td>\n",
       "      <td>0.387440</td>\n",
       "      <td>0.185101</td>\n",
       "      <td>0.982214</td>\n",
       "      <td>0.474467</td>\n",
       "    </tr>\n",
       "    <tr>\n",
       "      <th>ReservoirRnormqMult</th>\n",
       "      <td>0.250000</td>\n",
       "      <td>1.999610</td>\n",
       "      <td>0.828612</td>\n",
       "      <td>1.998290</td>\n",
       "      <td>0.946985</td>\n",
       "      <td>1.714180</td>\n",
       "      <td>1.999660</td>\n",
       "      <td>1.59126</td>\n",
       "      <td>1.999900</td>\n",
       "      <td>1.256110</td>\n",
       "      <td>...</td>\n",
       "      <td>1.843080</td>\n",
       "      <td>0.385225</td>\n",
       "      <td>0.453351</td>\n",
       "      <td>0.987671</td>\n",
       "      <td>0.372642</td>\n",
       "      <td>1.205480</td>\n",
       "      <td>0.705504</td>\n",
       "      <td>2.000000</td>\n",
       "      <td>0.451097</td>\n",
       "      <td>0.954613</td>\n",
       "    </tr>\n",
       "  </tbody>\n",
       "</table>\n",
       "<p>2 rows × 33 columns</p>\n",
       "</div>"
      ],
      "text/plain": [
       "                          453       476       477       527       555  \\\n",
       "adjust_Normal_Flood  0.139326  0.522563  0.638480  0.129179  0.501281   \n",
       "ReservoirRnormqMult  0.250000  1.999610  0.828612  1.998290  0.946985   \n",
       "\n",
       "                          556       635      642       656       662  ...  \\\n",
       "adjust_Normal_Flood  0.894556  0.146777  0.01000  0.026621  0.480791  ...   \n",
       "ReservoirRnormqMult  1.714180  1.999660  1.59126  1.999900  1.256110  ...   \n",
       "\n",
       "                          825       829       830       831       835  \\\n",
       "adjust_Normal_Flood  0.325858  0.609061  0.958427  0.223297  0.544355   \n",
       "ReservoirRnormqMult  1.843080  0.385225  0.453351  0.987671  0.372642   \n",
       "\n",
       "                          836       854       856       858       865  \n",
       "adjust_Normal_Flood  0.617579  0.387440  0.185101  0.982214  0.474467  \n",
       "ReservoirRnormqMult  1.205480  0.705504  2.000000  0.451097  0.954613  \n",
       "\n",
       "[2 rows x 33 columns]"
      ]
     },
     "execution_count": 33,
     "metadata": {},
     "output_type": "execute_result"
    }
   ],
   "source": [
    "# read calibrated parameters\n",
    "parameters = {}\n",
    "for catchment in catchments:\n",
    "    xml = path_glofas / 'catchments' / catchment / 'settings' / settings_file\n",
    "    parameters[catchment] = xml_parameters(xml, pars=['adjust_Normal_Flood', 'ReservoirRnormqMult'])\n",
    "parameters = pd.DataFrame(parameters)\n",
    "\n",
    "parameters"
   ]
  },
  {
   "cell_type": "code",
   "execution_count": 51,
   "id": "00722ac8-c3a2-49a0-b324-cc507a57254c",
   "metadata": {},
   "outputs": [
    {
     "name": "stdout",
     "output_type": "stream",
     "text": [
      "741\n"
     ]
    }
   ],
   "source": [
    "# identify catchments in the catchment\n",
    "reservoirs = {}\n",
    "for catchment in catchments:\n",
    "    try:\n",
    "        # read NetCDF file\n",
    "        nc = path_glofas / 'catchments' / catchment / 'maps' / '20210920_res_Global_03min.nc'\n",
    "        res = xr.open_dataset(nc)['res'].data\n",
    "        # extract unique ResID values\n",
    "        reservoirs[catchment] = res[~np.isnan(res)].astype(int).tolist()\n",
    "    except:\n",
    "        print(catchment)"
   ]
  },
  {
   "cell_type": "code",
   "execution_count": 52,
   "id": "dfb02a79-9bee-4dcf-9199-cf9e4d9e7981",
   "metadata": {},
   "outputs": [
    {
     "data": {
      "text/plain": [
       "{'453': [31, 169],\n",
       " '476': [609],\n",
       " '477': [169, 364],\n",
       " '527': [617],\n",
       " '555': [48],\n",
       " '556': [227, 14],\n",
       " '635': [],\n",
       " '642': [146],\n",
       " '656': [621, 488, 54],\n",
       " '662': [193, 195],\n",
       " '695': [228],\n",
       " '748': [7],\n",
       " '750': [92],\n",
       " '755': [50],\n",
       " '772': [362, 149],\n",
       " '788': [76, 56],\n",
       " '789': [386],\n",
       " '800': [446, 334],\n",
       " '807': [392, 140, 278],\n",
       " '809': [308, 334],\n",
       " '811': [56, 313],\n",
       " '820': [143, 17],\n",
       " '825': [446, 462, 258],\n",
       " '829': [313, 406],\n",
       " '830': [491],\n",
       " '831': [392, 140, 16, 174],\n",
       " '835': [362, 149, 446, 308, 334, 462, 258, 313, 359, 406, 449],\n",
       " '836': [359],\n",
       " '854': [442],\n",
       " '856': [315],\n",
       " '858': [393, 64],\n",
       " '865': [156]}"
      ]
     },
     "execution_count": 52,
     "metadata": {},
     "output_type": "execute_result"
    }
   ],
   "source": [
    "reservoirs"
   ]
  },
  {
   "cell_type": "code",
   "execution_count": 59,
   "id": "9e33112f-8b59-4ecf-baba-2ea661c86abb",
   "metadata": {},
   "outputs": [
    {
     "name": "stdout",
     "output_type": "stream",
     "text": [
      "Reservoir 621 is in catchment 656\n"
     ]
    }
   ],
   "source": [
    "for key, ls in reservoirs.items():\n",
    "    if 12 in ls:\n",
    "        print(f'Reservoir 12 is in catchment {key}')\n",
    "    elif 621 in ls:\n",
    "        print(f'Reservoir 621 is in catchment {key}')"
   ]
  },
  {
   "cell_type": "code",
   "execution_count": 57,
   "id": "466ef3c0-6d07-4caa-bf14-c3e9b48f583e",
   "metadata": {},
   "outputs": [
    {
     "name": "stdout",
     "output_type": "stream",
     "text": [
      "no. reservoirs: 45\n"
     ]
    }
   ],
   "source": [
    "ids = np.unique([id for key, ls in reservoirs.items() for id in ls])\n",
    "print(f'no. reservoirs: {len(ids)}')"
   ]
  },
  {
   "cell_type": "code",
   "execution_count": null,
   "id": "4e05d3a3-2336-4dac-bf14-109f1093bce4",
   "metadata": {},
   "outputs": [],
   "source": []
  }
 ],
 "metadata": {
  "kernelspec": {
   "display_name": "Python 3 (ipykernel)",
   "language": "python",
   "name": "python3"
  },
  "language_info": {
   "codemirror_mode": {
    "name": "ipython",
    "version": 3
   },
   "file_extension": ".py",
   "mimetype": "text/x-python",
   "name": "python",
   "nbconvert_exporter": "python",
   "pygments_lexer": "ipython3",
   "version": "3.9.13"
  }
 },
 "nbformat": 4,
 "nbformat_minor": 5
}
