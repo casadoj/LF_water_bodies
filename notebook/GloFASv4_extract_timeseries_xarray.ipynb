{
 "cells": [
  {
   "cell_type": "code",
   "execution_count": 1,
   "id": "1bac3585-4d2c-49c7-8a5f-87e425b54b09",
   "metadata": {},
   "outputs": [],
   "source": [
    "import os\n",
    "# os.environ['USE_PYGEOS'] = '0'\n",
    "import numpy as np\n",
    "import pandas as pd\n",
    "import xarray as xr\n",
    "import matplotlib.pyplot as plt\n",
    "from pathlib import Path\n",
    "# import geopandas as gpd\n",
    "from tqdm.notebook import tqdm\n",
    "import yaml"
   ]
  },
  {
   "cell_type": "code",
   "execution_count": 2,
   "id": "3df261ef-0277-4882-acbc-b413d202361f",
   "metadata": {},
   "outputs": [],
   "source": [
    "import glob"
   ]
  },
  {
   "cell_type": "code",
   "execution_count": 3,
   "id": "d498014b-4eb9-4524-8177-bfc0c34735c3",
   "metadata": {},
   "outputs": [],
   "source": [
    "import warnings\n",
    "warnings.filterwarnings('ignore')"
   ]
  },
  {
   "cell_type": "markdown",
   "id": "5e361c38-4978-4f38-87dc-84f175c0faf5",
   "metadata": {},
   "source": [
    "### Configuration"
   ]
  },
  {
   "cell_type": "code",
   "execution_count": 4,
   "id": "c1bf2f59-478e-4d7d-8ab4-5a7963b5ba59",
   "metadata": {},
   "outputs": [],
   "source": [
    "with open('config_extraction.yml', 'r', encoding='utf8') as ymlfile:\n",
    "    cfg = yaml.load(ymlfile, Loader=yaml.FullLoader)\n",
    "\n",
    "path_res = Path(cfg['path_res'])\n",
    "path_ts = Path(cfg['path_ts'])\n",
    "path_out = Path(cfg['path_out'])\n",
    "if path_out.exists() is False:\n",
    "    path_out.mkdir()\n",
    "var = cfg['var']"
   ]
  },
  {
   "cell_type": "markdown",
   "id": "4d00de55-e4cf-4064-80b8-ec5f3c13ccf9",
   "metadata": {},
   "source": [
    "### Coordinates"
   ]
  },
  {
   "cell_type": "code",
   "execution_count": 5,
   "id": "d7719f2e-8b78-44aa-a453-155280fb6cfb",
   "metadata": {},
   "outputs": [],
   "source": [
    "# load static map of reservoirs\n",
    "glofas_raster = xr.open_dataset(path_res)['res']\n",
    "\n",
    "# extract an array of reservoir ID\n",
    "ids = np.unique(glofas_raster.where(~glofas_raster.isnull(), drop=True))\n",
    "ids = ids[~np.isnan(ids) & (ids != -9999)]\n",
    "ids = ids.astype(int)"
   ]
  },
  {
   "cell_type": "code",
   "execution_count": 13,
   "id": "c6f67f7a-14d9-454f-acc9-986339907c43",
   "metadata": {},
   "outputs": [],
   "source": [
    "lon = xr.DataArray(np.nan, dims=['ResID'], coords={'ResID': ids}, name='lon')\n",
    "lat = xr.DataArray(np.nan, dims=['ResID'], coords={'ResID': ids}, name='lat')\n",
    "for id in tqdm(ids):\n",
    "    cell = glofas_raster.where(glofas_raster == id, drop=True)\n",
    "    lon.loc[dict(ResID=id)] = cell.lon.data[0]\n",
    "    lat.loc[dict(ResID=id)] = cell.lat.data[0]\n",
    "coords = xr.Dataset({'lon': lon, 'lat': lat})"
   ]
  },
  {
   "cell_type": "code",
   "execution_count": 7,
   "id": "b9a0efd2-c0c4-4567-89a3-0e645bb4ad64",
   "metadata": {},
   "outputs": [
    {
     "data": {
      "image/png": "[encoded data removed]",
      "text/plain": [
       "<Figure size 640x480 with 1 Axes>"
      ]
     },
     "metadata": {},
     "output_type": "display_data"
    }
   ],
   "source": [
    "# plot reservoir locations\n",
    "fig, ax = plt.subplots()\n",
    "ax.scatter(lon.data, lat.data, s=5, alpha=.3)\n",
    "ax.set_aspect('equal')\n",
    "ax.axis('off');"
   ]
  },
  {
   "cell_type": "markdown",
   "id": "dcb5ad31-ef1c-443e-a89c-f545009b996e",
   "metadata": {},
   "source": [
    "### Time series of reservoir storage"
   ]
  },
  {
   "cell_type": "code",
   "execution_count": 9,
   "id": "16bebbd4-2321-4f5a-97e0-c1f0640128dc",
   "metadata": {},
   "outputs": [
    {
     "data": {
      "application/vnd.jupyter.widget-view+json": {
       "model_id": "5713bbd7a92a4e4cb2e2954d283503fb",
       "version_major": 2,
       "version_minor": 0
      },
      "text/plain": [
       "  0%|          | 0/11 [00:00<?, ?it/s]"
      ]
     },
     "metadata": {},
     "output_type": "display_data"
    }
   ],
   "source": [
    "for file in tqdm(glob.glob(f'{path_ts}/{var}_20[12]?.nc')):\n",
    "    \n",
    "    # check if the data was already processed\n",
    "    filename = file.split('\\\\')[-1]\n",
    "    fileout = path_out / filename.replace('.nc', f'_extract{len(ids)}.nc')\n",
    "    if (fileout).exists():\n",
    "        continue\n",
    "        \n",
    "    # open the dataset lazily using dask\n",
    "    da = xr.open_dataset(file, chunks='auto')[var]\n",
    "    \n",
    "    # extract data for the reservoirs\n",
    "    da = da.sel(lon=lon, lat=lat, method='nearest').drop(['lon', 'lat'])\n",
    "    \n",
    "    # export extraction\n",
    "    da.to_netcdf(fileout)"
   ]
  },
  {
   "cell_type": "code",
   "execution_count": null,
   "id": "49a3c065-653e-4231-9386-708cdf94e855",
   "metadata": {
    "tags": []
   },
   "outputs": [],
   "source": [
    "# parameter = \"dis24\"\n",
    "# filepath = \"CDS_GloFASv40_reanalysis/\"\n",
    "\n",
    "# for year in np.arange(1980,1981):\n",
    "\n",
    "#     yearstring = str(year)\n",
    "    \n",
    "#     # load GRIB file\n",
    "#     fullfilepath = filepath + yearstring + '.grib'\n",
    "#     ds = xr.open_dataset(fullfilepath, engine=\"cfgrib\", backend_kwargs={\"filter_by_keys\": {\"typeOfLevel\": \"surface\"}}, chunks={\"time\": 1})\n",
    "    \n",
    "#     # load table of points\n",
    "#     df = pd.read_csv(\"GRDC.csv\")\n",
    "#     total = len(df) # number of points\n",
    "    \n",
    "#     # extract time series for each point\n",
    "#     allIDs = []\n",
    "#     rows_time = []\n",
    "#     rows_value = []\n",
    "#     count = 0\n",
    "#     for lon, lat, id in zip(df.LisfloodX, df.LisfloodY, df.grdc_no):\n",
    "        \n",
    "#         extracted = ds.sel(longitude=lon, latitude=lat, method=\"nearest\")[parameter]\n",
    "#         print(extracted)\n",
    "#         df_time = extracted.indexes\n",
    "#         df_values = extracted.values\n",
    "#         print(\"timing 1\")\n",
    "#         print(\"timing 2\")\n",
    "#         rows_time.append(df_time._indexes['time'].values[:])\n",
    "#         rows_value.append(df_values)\n",
    "#         print(\"timing 3\")\n",
    "#         count += 1\n",
    "#         print(f\"progress: {count/total*100} %\")\n",
    "\n",
    "#         allIDs.append(id)\n",
    "\n",
    "      \n",
    "#     # save time series as CSV\n",
    "#     savefilename = \"extracted_test_\" + yearstring + \".csv\"\n",
    "#     with open(savefilename, \"w\") as f:\n",
    "#         # header\n",
    "#         f.write(\"id\\ttime\\tvalue\\n\")\n",
    "#         # time series of each point\n",
    "#         for id, time, value in zip(allIDs, rows_time, rows_value):\n",
    "#             for t, v in zip(time,value):\n",
    "#                 f.write(f\"{id}\\t{t}\\t{v}\\n\")"
   ]
  }
 ],
 "metadata": {
  "kernelspec": {
   "display_name": "Python 3 (ipykernel)",
   "language": "python",
   "name": "python3"
  },
  "language_info": {
   "codemirror_mode": {
    "name": "ipython",
    "version": 3
   },
   "file_extension": ".py",
   "mimetype": "text/x-python",
   "name": "python",
   "nbconvert_exporter": "python",
   "pygments_lexer": "ipython3",
   "version": "3.9.13"
  }
 },
 "nbformat": 4,
 "nbformat_minor": 5
}
